{
 "cells": [
  {
   "cell_type": "code",
   "execution_count": null,
   "id": "065ff013-df73-40c2-93b8-325134a24515",
   "metadata": {},
   "outputs": [],
   "source": []
  },
  {
   "cell_type": "code",
   "execution_count": null,
   "id": "2cddc9c9-2315-4dd2-8396-5ef6ec51b78a",
   "metadata": {},
   "outputs": [],
   "source": [
    "# https://stackoverflow.com/a/47311878/1164295\n",
    "\n",
    "%matplotlib notebook"
   ]
  },
  {
   "cell_type": "code",
   "execution_count": null,
   "id": "68a8b376-1562-4454-8f11-81467bdace5c",
   "metadata": {},
   "outputs": [],
   "source": [
    "%matplotlib inline"
   ]
  },
  {
   "cell_type": "code",
   "execution_count": null,
   "id": "4325cc4d-dce2-47d5-af4a-952994dbb9f8",
   "metadata": {},
   "outputs": [],
   "source": [
    "import pandas\n",
    "from matplotlib import pyplot as plt\n",
    "import matplotlib\n",
    "import seaborn\n",
    "import numpy as np\n",
    "import sys"
   ]
  },
  {
   "cell_type": "code",
   "execution_count": null,
   "id": "838441b5-95b2-4993-8810-681941792370",
   "metadata": {},
   "outputs": [],
   "source": [
    "sys.version_info"
   ]
  },
  {
   "cell_type": "code",
   "execution_count": null,
   "id": "eb9181b3-1300-4737-863b-18690bae81b7",
   "metadata": {},
   "outputs": [],
   "source": [
    "print(\"matplotlib\", matplotlib.__version__)\n",
    "print(\"seaborn\", seaborn.__version__)\n",
    "print(\"pandas\", pandas.__version__)\n",
    "print(\"numpy\", np.__version__)"
   ]
  },
  {
   "cell_type": "code",
   "execution_count": null,
   "id": "ee39a152-1a22-4fc4-a86e-0f5ba3e9411d",
   "metadata": {},
   "outputs": [],
   "source": [
    "import json\n",
    "import ast\n",
    "import graphviz # https://github.com/xflr6/graphviz"
   ]
  },
  {
   "cell_type": "code",
   "execution_count": null,
   "id": "412cd7c4-a684-4da4-8e03-e29bf32c6678",
   "metadata": {},
   "outputs": [],
   "source": [
    "def extract_functions_from_cell(module_ast) -> list:\n",
    "    \"\"\"\n",
    "    This function is called per notebook cell\n",
    "    \n",
    "    do not include this cell in AST analysis\n",
    "    \"\"\"\n",
    "    list_of_functions = []\n",
    "    include_this_cell = True\n",
    "    for node in module_ast.body:\n",
    "        if isinstance(node, ast.FunctionDef):\n",
    "            #print(node.name)\n",
    "            #print(\"function name =\",node.name) # module_ast.body[0].name\n",
    "            this_func = {'module ast': module_ast,\n",
    "                         'function name': node.name,\n",
    "                         'input arguments': [],\n",
    "                         'output names': []}\n",
    "            for arg_node in node.args.args:\n",
    "                #print(\"input argument name =\",arg_node.arg) # module_ast.body[0].args.args[0].arg\n",
    "                this_func['input arguments'].append(arg_node.arg)\n",
    "                #print(arg_node.arg)\n",
    "            for bod_node in node.body:\n",
    "                #print(bod_node)\n",
    "                if isinstance(bod_node, ast.Expr): \n",
    "                    if isinstance(bod_node.value, ast.Constant):\n",
    "                        #print(\"comment is\",bod_node.value.value.strip())\n",
    "                        docstring_as_list = bod_node.value.value.split(\"\\n\")\n",
    "                        #print(docstring_as_list)\n",
    "                        for this_line in docstring_as_list:\n",
    "                            #print(this_line)\n",
    "                            if \"cluster: \" in this_line:\n",
    "                                this_func['cluster'] = this_line.strip().replace(\"cluster: \",\"\")\n",
    "                if isinstance(bod_node, ast.Return):\n",
    "                    if isinstance(bod_node.value, ast.Name): # single return\n",
    "                        #print(\"output name =\",bod_node.value.id) # module_ast.body[0].body[3].value.id\n",
    "                        this_func['output names'].append(bod_node.value.id)\n",
    "                    elif isinstance(bod_node.value, ast.Tuple): # multiple returns\n",
    "                        for this_arg_node in bod_node.value.elts:\n",
    "                            #print(\"output name =\",this_arg_node.id) # module_ast.body[0].body[3].value.elts[0].id\n",
    "                            this_func['output names'].append(this_arg_node.id)\n",
    "    list_of_functions.append(this_func)\n",
    "    return list_of_functions\n"
   ]
  },
  {
   "cell_type": "code",
   "execution_count": null,
   "id": "3f069713-962f-4ceb-9cee-95ec62e41b9f",
   "metadata": {},
   "outputs": [],
   "source": [
    "def extract_functions_from_notebook(name_of_notebook: str) -> list:\n",
    "    \"\"\"\n",
    "    do not include this cell in AST analysis\n",
    "    \"\"\"\n",
    "    with open(name_of_notebook, \"r\") as file_handle:\n",
    "        content = json.load(file_handle)\n",
    "    \n",
    "    list_of_functions = []\n",
    "    for cell in content['cells']:\n",
    "        if 'source' in cell.keys():\n",
    "            source_code = \"\".join(cell['source'])\n",
    "            #print(source_code)\n",
    "            if \"do not include this cell in AST analysis\" in source_code:\n",
    "                #print(source_code)\n",
    "                continue\n",
    "            list_of_functions_this_cell = []\n",
    "            if source_code.startswith(\"def \"):\n",
    "                #print(source_code)\n",
    "                module_ast = ast.parse(source_code)\n",
    "                # in case the \"extract_functions\" fails, to troubleshoot \n",
    "                show_ast = ast.dump(module_ast, indent=4)\n",
    "                list_of_functions_this_cell = extract_functions_from_cell(module_ast)\n",
    "            for cell_func in list_of_functions_this_cell:\n",
    "                list_of_functions.append(cell_func)\n",
    "    return list_of_functions"
   ]
  },
  {
   "cell_type": "code",
   "execution_count": null,
   "id": "0ee39755-5cca-456a-988b-0f2e65092bde",
   "metadata": {},
   "outputs": [],
   "source": [
    "def functions_that_produce_variable(input_arg: str):\n",
    "    \"\"\"\n",
    "    do not include this cell in AST analysis\n",
    "    \"\"\"\n",
    "    return_str = \"\"\n",
    "    list_of_functions = extract_functions_from_notebook(\"many_functions.ipynb\")\n",
    "    for this_function_dict in list_of_functions:\n",
    "        if input_arg in this_function_dict['output names']:\n",
    "            return_str += this_function_dict['function name']+\"[shape=\\\"rect\\\"];\\n\"\n",
    "            for input_arg in this_function_dict['input arguments']:\n",
    "                #print(input_arg,\"->\",this_function_dict['function name'])\n",
    "                return_str += input_arg+\"->\"+this_function_dict['function name']+\"\\n\"\n",
    "            for output_name in this_function_dict['output names']:\n",
    "                #print(this_function_dict['function name'],\"->\",output_name)\n",
    "                return_str += this_function_dict['function name']+\"->\"+output_name+\"\\n\"\n",
    "    return return_str"
   ]
  },
  {
   "cell_type": "code",
   "execution_count": null,
   "id": "b0beb9b5-86a0-4ba4-b234-011859dbcd0d",
   "metadata": {},
   "outputs": [],
   "source": [
    "def functions_that_have_argument(output_name: str):\n",
    "    \"\"\"\n",
    "    do not include this cell in AST analysis\n",
    "    \"\"\"\n",
    "    return_str = \"\"\n",
    "    list_of_functions = extract_functions_from_notebook(\"many_functions.ipynb\")\n",
    "    for this_function_dict in list_of_functions:\n",
    "        if output_name in this_function_dict['input arguments']:\n",
    "            return_str += this_function_dict['function name']+\"[shape=\\\"rect\\\"];\\n\"\n",
    "            for input_arg in this_function_dict['input arguments']:\n",
    "                #print(input_arg,\"->\",this_function_dict['function name'])\n",
    "                return_str += input_arg+\"->\"+this_function_dict['function name']+\"\\n\"\n",
    "            for output_name in this_function_dict['output names']:\n",
    "                #print(this_function_dict['function name'],\"->\",output_name)\n",
    "                return_str += this_function_dict['function name']+\"->\"+output_name+\"\\n\"\n",
    "    return return_str"
   ]
  },
  {
   "cell_type": "code",
   "execution_count": null,
   "id": "b331ae61-83ce-44b1-9e28-7ed6c96793c6",
   "metadata": {},
   "outputs": [],
   "source": [
    "def show_nearby_dependencies(function_name: str, notebook_name: str):\n",
    "    \"\"\"\n",
    "    do not include this cell in AST analysis\n",
    "    \"\"\"\n",
    "#    print(function_name)\n",
    "    return_str  = (\"digraph G {\\n\"+\n",
    "                   \"  rankdir=LR;\\n\")\n",
    "    list_of_functions = extract_functions_from_notebook(notebook_name)\n",
    "    for this_function_dict in list_of_functions:\n",
    "        if this_function_dict['function name'] == function_name:\n",
    "            return_str += this_function_dict['function name']+\"[shape=\\\"rect\\\"];\\n\"\n",
    "            for input_arg in this_function_dict['input arguments']:\n",
    "                #print(input_arg,\"->\",this_function_dict['function name'])\n",
    "                return_str += input_arg+\"->\"+this_function_dict['function name']+\"\\n\"\n",
    "                return_str +=  functions_that_produce_variable(input_arg)\n",
    "            for output_name in this_function_dict['output names']:\n",
    "                #print(this_function_dict['function name'],\"->\",output_name)\n",
    "                return_str += this_function_dict['function name']+\"->\"+output_name+\"\\n\"\n",
    "                return_str += functions_that_have_argument(output_name)\n",
    "    return_str += \"}\\n\"\n",
    "    #print(return_str)\n",
    "    \n",
    "    # TODO: remove duplicate lines from return_str\n",
    "    #graphviz_str = \"\\n\".join(list(set(return_str.split(\"\\n\"))))\n",
    "    graphviz_str = return_str\n",
    "    \n",
    "    file_name = \"temp_file.dot\"\n",
    "    with open(file_name,\"w\") as file_handle:\n",
    "        file_handle.write(graphviz_str)\n",
    "\n",
    "    # https://stackoverflow.com/a/73722355/1164295\n",
    "    s = graphviz.Source.from_file(file_name)\n",
    "    return s"
   ]
  },
  {
   "cell_type": "code",
   "execution_count": null,
   "id": "6db89638-5d41-4e96-8dd5-06561040f8d0",
   "metadata": {},
   "outputs": [],
   "source": [
    "s = None\n",
    "s = show_nearby_dependencies(\"D\", \"many_functions.ipynb\")\n",
    "s"
   ]
  },
  {
   "cell_type": "code",
   "execution_count": null,
   "id": "bcd19e6f-08dd-4927-86d3-9aff7c593f17",
   "metadata": {},
   "outputs": [],
   "source": [
    "x = 4\n",
    "number_of_iterations = 10"
   ]
  },
  {
   "cell_type": "markdown",
   "id": "1ac5d9bb-40bf-484d-82dc-5c36e17a635b",
   "metadata": {},
   "source": [
    "Given a functional relation \n",
    "\n",
    "                           +--------------------------------+\n",
    "                          c|                                |\n",
    "               +----+      |     +-----+         +-----+ c  |\n",
    "    x -------->|    |      +---->|     |         |     +----+\n",
    "               | A  |  a         | B   |   b     | C   |       d\n",
    "       b +---->|    +----------->|     +->-+---->|     +------------>\n",
    "         ^     +----+            +-----+   |     +-----+\n",
    "         |              b                  |\n",
    "         +--------<------------------------+\n",
    "\n",
    "What is the value of `d` as a function of `x`?\n",
    "\n",
    "Graph created using https://asciiflow.com/#/"
   ]
  },
  {
   "cell_type": "raw",
   "id": "4b5b7fa8-382b-4381-9172-c6a2807eca4b",
   "metadata": {},
   "source": [
    "# https://dreampuf.github.io/GraphvizOnline/#digraph%20G%20%7B%0A%20%20rankdir%3DLR%3B%0A%20%20%23splines%3Dtrue%3B%0A%20%20%23overlap%20%3D%20false%3B%0A%20%20A%20%5Bshape%3D%22rect%22%5D%3B%0A%20%20B%20%5Bshape%3D%22rect%22%5D%3B%0A%20%20C%20%5Bshape%3D%22rect%22%5D%3B%0A%20%20A%20-%3E%20a%3B%0A%20%20x%20-%3E%20A%3B%0A%20%20%23b%3Ae%20-%3E%20A%3Aw%3B%0A%20%20b%20-%3E%20A%3B%0A%20%20a%20-%3E%20B%3B%0A%20%20B%20-%3E%20b%3B%0A%20%20C%20-%3E%20c%3B%0A%23%20%20c%3Ae%20-%3E%20B%3Aw%3B%0A%20%20c%20-%3E%20B%3B%0A%20%20b%20-%3E%20C%3B%0A%20%20C%20-%3E%20d%3B%0A%7D\n",
    "\n",
    "digraph G {\n",
    "  rankdir=LR;\n",
    "  #splines=true;\n",
    "  #overlap = false;\n",
    "  A [shape=\"rect\"];\n",
    "  B [shape=\"rect\"];\n",
    "  C [shape=\"rect\"];\n",
    "  A -> a;\n",
    "  x -> A;\n",
    "  #b:e -> A:w;\n",
    "  b -> A;\n",
    "  a -> B;\n",
    "  B -> b;\n",
    "  C -> c;\n",
    "#  c:e -> B:w;\n",
    "  c -> B;\n",
    "  b -> C;\n",
    "  C -> d;\n",
    "}"
   ]
  },
  {
   "cell_type": "code",
   "execution_count": null,
   "id": "bd0ea50f-d5f4-4f3e-b99d-107d333cd76f",
   "metadata": {},
   "outputs": [],
   "source": [
    "# all parameters must be declared\n",
    "# membership in clusters must be declared\n",
    "parameter_clusters = {'cat3': ['b', 'x'], \n",
    "                      'cat4': ['c'],\n",
    "                      'not part of a cluster': ['a', 'd']}"
   ]
  },
  {
   "cell_type": "code",
   "execution_count": null,
   "id": "37dd9407-aab9-4183-ae59-554763ae4058",
   "metadata": {},
   "outputs": [],
   "source": [
    "def A(b: int, x: int) -> int:\n",
    "    \"\"\"\n",
    "    cluster: cat1\n",
    "    \n",
    "    description of scope\n",
    "    \"\"\"\n",
    "    a = b + x\n",
    "    return a"
   ]
  },
  {
   "cell_type": "code",
   "execution_count": null,
   "id": "e4a9202f-275a-4aba-ba78-5166b771a191",
   "metadata": {},
   "outputs": [],
   "source": [
    "s = None\n",
    "s = show_nearby_dependencies(\"A\", \"many_functions.ipynb\")\n",
    "s"
   ]
  },
  {
   "cell_type": "code",
   "execution_count": null,
   "id": "cbe0af6d-cb66-4895-9a38-22a1451ec5a9",
   "metadata": {},
   "outputs": [],
   "source": [
    "def B(c: int, a: int) -> int:\n",
    "    \"\"\"\n",
    "    cluster: cat2\n",
    "    \"\"\"\n",
    "    b = a + c\n",
    "    return b"
   ]
  },
  {
   "cell_type": "code",
   "execution_count": null,
   "id": "689009cd-c33c-44e5-ba00-776c3b43a96a",
   "metadata": {},
   "outputs": [],
   "source": [
    "def C(b: int):\n",
    "    \"\"\"\n",
    "    cluster: cat1\n",
    "    \"\"\"\n",
    "    c = b+1\n",
    "    d = b+2\n",
    "    return c,d"
   ]
  },
  {
   "cell_type": "code",
   "execution_count": null,
   "id": "9489b1c1-4641-4857-915f-09466163959c",
   "metadata": {},
   "outputs": [],
   "source": [
    "s = None\n",
    "s = show_nearby_dependencies(\"C\", \"many_functions.ipynb\")\n",
    "s"
   ]
  },
  {
   "cell_type": "code",
   "execution_count": null,
   "id": "c7b1d11e-fded-4f33-b40a-48c38e200ea7",
   "metadata": {},
   "outputs": [],
   "source": [
    "def D(a):\n",
    "    f = a\n",
    "    return f"
   ]
  },
  {
   "cell_type": "code",
   "execution_count": null,
   "id": "992d0ca9-82a6-4074-9a66-03df6024cf94",
   "metadata": {},
   "outputs": [],
   "source": [
    "show_nearby_dependencies(\"D\", \"many_functions.ipynb\")"
   ]
  },
  {
   "cell_type": "code",
   "execution_count": null,
   "id": "963783a9-dfa7-4f0e-beac-ce551b50741c",
   "metadata": {},
   "outputs": [],
   "source": [
    "def E(c):\n",
    "    return 2*c"
   ]
  },
  {
   "cell_type": "code",
   "execution_count": null,
   "id": "0b61646a-6d56-4906-aca5-ac8e34ca9ae0",
   "metadata": {},
   "outputs": [],
   "source": [
    "results = []\n",
    "\n",
    "b_list = [1,2,3]\n",
    "for initial_b in b_list:\n",
    "    b = initial_b\n",
    "\n",
    "    c_list = [2,3,4,5,6]\n",
    "    for initial_c in c_list:\n",
    "        c = initial_c\n",
    "\n",
    "        for iteration_index in range(number_of_iterations):\n",
    "            a = A(x, b)\n",
    "            b = B(c, a)\n",
    "            c, d = C(b)\n",
    "            this_loop_dict = {'index': iteration_index,\n",
    "                              '$b_{initial}$': initial_b,\n",
    "                              '$c_{initial}$': initial_c,\n",
    "                              'a': a,\n",
    "                              'b': b,\n",
    "                              'c': c,\n",
    "                              'd': d}\n",
    "            results.append(this_loop_dict)"
   ]
  },
  {
   "cell_type": "code",
   "execution_count": null,
   "id": "b6bf1448-4911-48b8-91c0-017c251c9314",
   "metadata": {},
   "outputs": [],
   "source": [
    "df = pandas.DataFrame(results)"
   ]
  },
  {
   "cell_type": "code",
   "execution_count": null,
   "id": "347844c9-c229-400d-9db2-45666472581c",
   "metadata": {},
   "outputs": [],
   "source": [
    "# https://www.python-graph-gallery.com/90-heatmaps-with-various-input-format\n",
    "\n",
    "df_wide = df.pivot_table( index='index', columns='$c_{initial}$', values='d')"
   ]
  },
  {
   "cell_type": "code",
   "execution_count": null,
   "id": "d3fe35b6-4302-49f3-85d5-921fdf22dade",
   "metadata": {},
   "outputs": [],
   "source": [
    "# https://seaborn.pydata.org/examples/spreadsheet_heatmap.html\n",
    "\n",
    "seaborn.heatmap(df_wide, annot=True);"
   ]
  },
  {
   "cell_type": "code",
   "execution_count": null,
   "id": "b0bdeae1-00c6-4557-8965-52ffdd1ac03e",
   "metadata": {},
   "outputs": [],
   "source": [
    "initial_c = 3\n",
    "plt.plot(df_wide[initial_c]);\n",
    "plt.xlabel('iteration index')\n",
    "plt.ylabel('d');"
   ]
  },
  {
   "cell_type": "code",
   "execution_count": null,
   "id": "832bd8d5-3bc6-4e5d-a17d-d24cee6656d6",
   "metadata": {},
   "outputs": [],
   "source": [
    "df_wide.shape"
   ]
  },
  {
   "cell_type": "raw",
   "id": "97d411b2-2d77-4f94-9800-8136832b181e",
   "metadata": {},
   "source": [
    "# https://stackoverflow.com/a/56416229/1164295\n",
    "%matplotlib widget"
   ]
  },
  {
   "cell_type": "code",
   "execution_count": null,
   "id": "aff51bb5-e935-4f53-b39b-b1c923d2350d",
   "metadata": {},
   "outputs": [],
   "source": [
    "axes = plt.axes(projection='3d')\n",
    "\n",
    "col, ind = np.meshgrid(df_wide.columns, df_wide.index)\n",
    "\n",
    "axes.plot_wireframe(col, ind, df_wide)\n",
    "plt.gca().set_xlabel('$c_{initial}$', fontsize=20)\n",
    "plt.gca().set_ylabel('iteration', fontsize=20)\n",
    "plt.gca().set_zlabel('d', fontsize=20);\n",
    "plt.show()"
   ]
  },
  {
   "cell_type": "markdown",
   "id": "4cc17898-1eca-4b3c-8631-88483168e6a7",
   "metadata": {},
   "source": [
    "# introspection to create graph"
   ]
  },
  {
   "cell_type": "markdown",
   "id": "c2a7996b-57b3-4912-93fb-4fc1083ab613",
   "metadata": {},
   "source": [
    "## using pycallgraph (dynamic)"
   ]
  },
  {
   "cell_type": "raw",
   "id": "d848c69b-0f8b-41e7-9fec-870080b06e52",
   "metadata": {},
   "source": [
    "# Pycallgraph is no longer supported\n",
    "\n",
    "# https://pypi.org/project/pycallgraph/\n",
    "# https://github.com/gak/pycallgraph/\n",
    "# https://pycallgraph.readthedocs.io/en/master/\n",
    "\n",
    "!pip3 install pycallgraph"
   ]
  },
  {
   "cell_type": "raw",
   "id": "f0aa7b74-caf4-4eb5-b0b7-d38986689221",
   "metadata": {},
   "source": [
    "# https://pypi.org/project/pycallgraph2/\n",
    "# https://github.com/daneads/pycallgraph2\n",
    "\n",
    "!pip3 install pycallgraph2"
   ]
  },
  {
   "cell_type": "code",
   "execution_count": null,
   "id": "f19880cf-06cc-4a37-bb35-ef339af547cd",
   "metadata": {},
   "outputs": [],
   "source": []
  },
  {
   "cell_type": "markdown",
   "id": "64e7085b-de6e-43c7-bcc8-c4efef514445",
   "metadata": {},
   "source": [
    "## using AST (static)\n",
    "\n",
    "https://docs.python.org/3/library/ast.html"
   ]
  },
  {
   "cell_type": "markdown",
   "id": "221103c2-055b-43f1-a6da-b30bf5586802",
   "metadata": {},
   "source": [
    "### first extract the Python functions from .ipynb"
   ]
  },
  {
   "cell_type": "code",
   "execution_count": null,
   "id": "37d4cb62-0621-42dc-8e57-e64e3ac25730",
   "metadata": {},
   "outputs": [],
   "source": [
    "import json\n",
    "import ast"
   ]
  },
  {
   "cell_type": "code",
   "execution_count": null,
   "id": "d6d74405-3189-4051-8e0f-e5ea4844d99a",
   "metadata": {},
   "outputs": [],
   "source": [
    "with open(\"many_functions.ipynb\", \"r\") as file_handle:\n",
    "    content = json.load(file_handle)"
   ]
  },
  {
   "cell_type": "code",
   "execution_count": null,
   "id": "f6694faa-e0a3-42dc-ad56-5173583d4ab3",
   "metadata": {},
   "outputs": [],
   "source": [
    "list_of_functions = []\n",
    "\n",
    "for cell in content['cells']:\n",
    "    if 'source' in cell.keys():\n",
    "        source_code = \"\".join(cell['source'])\n",
    "        #print(source_code)\n",
    "        if \"do not include this cell in AST analysis\" in source_code:\n",
    "            #print(source_code)\n",
    "            continue\n",
    "        list_of_functions_this_cell = []\n",
    "        if source_code.startswith(\"def \"):\n",
    "            module_ast = ast.parse(source_code)\n",
    "            # in case the \"extract_functions\" fails, to troubleshoot \n",
    "            show_ast = ast.dump(module_ast, indent=4)\n",
    "            list_of_functions_this_cell = extract_functions(module_ast)\n",
    "        for cell_func in list_of_functions_this_cell:\n",
    "            list_of_functions.append(cell_func)"
   ]
  },
  {
   "cell_type": "raw",
   "id": "24d0cbaa-f1aa-484f-b5a2-fa9436b567a2",
   "metadata": {},
   "source": [
    "content['cells']"
   ]
  },
  {
   "cell_type": "code",
   "execution_count": null,
   "id": "ba00aa58-1149-44ad-ac63-38499aee65b6",
   "metadata": {},
   "outputs": [],
   "source": [
    "all_variables = []\n",
    "for this_func_dict in list_of_functions:\n",
    "    for variable in this_func_dict['input arguments']:\n",
    "        all_variables.append(variable)\n",
    "    for variable in this_func_dict['output names']:\n",
    "        all_variables.append(variable)\n",
    "\n",
    "print(list(set(all_variables)))"
   ]
  },
  {
   "cell_type": "raw",
   "id": "bf5f1ebf-6275-4116-8a09-910dd8c0862e",
   "metadata": {},
   "source": [
    "print(ast.dump(list_of_functions[2]['module ast'].body[0], indent=4))"
   ]
  },
  {
   "cell_type": "markdown",
   "id": "43e21c07-1c00-49ea-ac5c-61fca94b355e",
   "metadata": {},
   "source": [
    "### convert to graphviz\n",
    "\n",
    "https://pypi.org/project/graphviz/\n",
    "\n",
    "https://pygraphviz.github.io/\n",
    "\n",
    "https://h1ros.github.io/posts/introduction-to-graphviz-in-jupyter-notebook/"
   ]
  },
  {
   "cell_type": "code",
   "execution_count": null,
   "id": "864b2d81-c014-49f8-960a-8c02ba89f089",
   "metadata": {},
   "outputs": [],
   "source": []
  },
  {
   "cell_type": "code",
   "execution_count": null,
   "id": "0529f695-d133-4c38-8f66-e786626b148c",
   "metadata": {},
   "outputs": [],
   "source": []
  },
  {
   "cell_type": "code",
   "execution_count": null,
   "id": "56f509d0-69db-49d0-be4e-3ff4cc7f79cd",
   "metadata": {},
   "outputs": [],
   "source": [
    "cluster_and_nodes = {\"not part of a cluster\": []}\n",
    "\n",
    "# Create Digraph object\n",
    "functional_relations = graphviz.Digraph(graph_attr={'rankdir':'LR'})\n",
    "\n",
    "# pass 1: extract the clusters\n",
    "for this_func_dict in list_of_functions:\n",
    "    #print(this_func_dict)\n",
    "    if this_func_dict['function name']=='extract_functions':\n",
    "        continue # https://docs.python.org/3/tutorial/controlflow.html\n",
    "\n",
    "    if 'cluster' in this_func_dict.keys():\n",
    "        if this_func_dict['cluster'] not in cluster_and_nodes.keys():\n",
    "            cluster_and_nodes[this_func_dict['cluster']] = [this_func_dict]\n",
    "        else:\n",
    "            cluster_and_nodes[this_func_dict['cluster']].append(this_func_dict)\n",
    "    else: # not part of a cluster\n",
    "        cluster_and_nodes[\"not part of a cluster\"].append(this_func_dict)\n",
    "\n",
    "\n",
    "# https://graphviz.readthedocs.io/en/stable/manual.html#subgraphs-clusters\n",
    "# parameters\n",
    "for param_cluster_name, list_of_parameters in parameter_clusters.items():\n",
    "    if param_cluster_name == 'not part of a cluster':\n",
    "        for param in list_of_parameters:\n",
    "            functional_relations.node(param)\n",
    "            #print(param,\"is not part of a cluster\")\n",
    "    else:\n",
    "        c = graphviz.Digraph(name=\"cluster_\"+param_cluster_name.replace(\" \",\"_\"))\n",
    "        \n",
    "        c.attr(label=param_cluster_name)\n",
    "        for param in list_of_parameters:\n",
    "            c.node(param)\n",
    "            #print(param,\"is part of\", param_cluster_name)\n",
    "        functional_relations.subgraph(c)\n",
    "            \n",
    "# functions\n",
    "for cluster_name, list_of_function_dicts in cluster_and_nodes.items():\n",
    "    if cluster_name==\"not part of a cluster\":\n",
    "        for this_func_dict in list_of_function_dicts:\n",
    "            functional_relations.node(this_func_dict['function name'], \n",
    "                                      shape=\"rect\")\n",
    "\n",
    "    else: # cluster\n",
    "        c = graphviz.Digraph(name=\"cluster_\"+cluster_name.replace(\" \",\"_\"))\n",
    "        c.attr(label=cluster_name)\n",
    "        for this_func_dict in list_of_function_dicts:\n",
    "            c.node(this_func_dict['function name'], \n",
    "                                  shape=\"rect\")\n",
    "\n",
    "        functional_relations.subgraph(c)\n",
    "    \n",
    "    \n",
    "# edges are never within clusters\n",
    "for this_func_dict in list_of_functions:\n",
    "    if this_func_dict['function name']=='extract_functions':\n",
    "        continue # https://docs.python.org/3/tutorial/controlflow.html\n",
    "        \n",
    "    for input_arg in this_func_dict['input arguments']:\n",
    "        #functional_relations.node(input_arg)\n",
    "        functional_relations.edge(input_arg,this_func_dict['function name'])\n",
    "    for output_arg in this_func_dict['output names']:\n",
    "        functional_relations.edge(this_func_dict['function name'], output_arg)\n",
    "\n"
   ]
  },
  {
   "cell_type": "code",
   "execution_count": null,
   "id": "0cf68c3d-4eec-483c-9949-d01e04f0d828",
   "metadata": {},
   "outputs": [],
   "source": [
    "print(functional_relations.source)"
   ]
  },
  {
   "cell_type": "code",
   "execution_count": null,
   "id": "ae8b87bd-ed9c-4323-976e-edf2866b8a9f",
   "metadata": {},
   "outputs": [],
   "source": [
    "# https://pypi.org/project/pydotplus/\n",
    "!pip install pydotplus"
   ]
  },
  {
   "cell_type": "raw",
   "id": "05787015-7ccd-41a7-a677-b8f73d08f410",
   "metadata": {},
   "source": [
    "# https://stackoverflow.com/a/47682097/1164295\n",
    "\n",
    "import pydotplus\n",
    "import networkx\n",
    "\n",
    "dotplus = pydotplus.graph_from_dot_data(digraph.source)\n",
    "\n",
    "# if graph doesn't have multiedges, use dotplus.set_strict(true)\n",
    "nx_graph = networkx.nx_pydot.from_pydot(dotplus)"
   ]
  },
  {
   "cell_type": "code",
   "execution_count": null,
   "id": "f369b78f-c942-445b-b756-0f9cea5daa38",
   "metadata": {},
   "outputs": [],
   "source": []
  },
  {
   "cell_type": "markdown",
   "id": "8fcf12ba-1d14-4243-9100-38ddfc25159c",
   "metadata": {},
   "source": [
    "https://networkx.org/documentation/stable/auto_examples/graphviz_drawing/plot_conversion.html"
   ]
  },
  {
   "cell_type": "code",
   "execution_count": null,
   "id": "27b35ce6-1379-4c77-95a6-fb2852ff113f",
   "metadata": {},
   "outputs": [],
   "source": [
    "# inline visualization\n",
    "\n",
    "functional_relations"
   ]
  },
  {
   "cell_type": "code",
   "execution_count": null,
   "id": "3505983a-f700-4253-b9e0-032810c3c613",
   "metadata": {},
   "outputs": [],
   "source": [
    "functional_relations.format = 'png'"
   ]
  },
  {
   "cell_type": "code",
   "execution_count": null,
   "id": "c12a40ff-b772-4b2d-a3ed-a003e3980216",
   "metadata": {},
   "outputs": [],
   "source": [
    "functional_relations.view(filename='relations')"
   ]
  },
  {
   "cell_type": "code",
   "execution_count": null,
   "id": "1c5d9582-148f-41cd-a07f-4a1d0d8232f7",
   "metadata": {},
   "outputs": [],
   "source": [
    "from IPython.display import Image\n",
    "Image('relations.png')"
   ]
  },
  {
   "cell_type": "code",
   "execution_count": null,
   "id": "92c9dc41-5b6c-4255-93aa-a4701f4b5ff9",
   "metadata": {},
   "outputs": [],
   "source": []
  }
 ],
 "metadata": {
  "kernelspec": {
   "display_name": "Python 3 (ipykernel)",
   "language": "python",
   "name": "python3"
  },
  "language_info": {
   "codemirror_mode": {
    "name": "ipython",
    "version": 3
   },
   "file_extension": ".py",
   "mimetype": "text/x-python",
   "name": "python",
   "nbconvert_exporter": "python",
   "pygments_lexer": "ipython3",
   "version": "3.10.8"
  }
 },
 "nbformat": 4,
 "nbformat_minor": 5
}
